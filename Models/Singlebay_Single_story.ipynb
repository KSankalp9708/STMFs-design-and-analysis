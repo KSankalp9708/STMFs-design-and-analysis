{
  "nbformat": 4,
  "nbformat_minor": 0,
  "metadata": {
    "colab": {
      "provenance": []
    },
    "kernelspec": {
      "name": "python3",
      "display_name": "Python 3"
    },
    "language_info": {
      "name": "python"
    }
  },
  "cells": [
    {
      "cell_type": "code",
      "execution_count": null,
      "metadata": {
        "colab": {
          "base_uri": "https://localhost:8080/"
        },
        "id": "inR8u9avqnsK",
        "outputId": "fea5e8b2-d8d6-4868-c398-2f5d3ac8348c"
      },
      "outputs": [
        {
          "output_type": "stream",
          "name": "stdout",
          "text": [
            "Collecting openseespy\n",
            "  Downloading openseespy-3.7.1.2-py3-none-any.whl.metadata (2.3 kB)\n",
            "Collecting opsvis\n",
            "  Downloading opsvis-1.2.30-py3-none-any.whl.metadata (1.1 kB)\n",
            "Collecting openseespylinux>=3.7.1.2 (from openseespy)\n",
            "  Downloading openseespylinux-3.7.1.2-py3-none-any.whl.metadata (1.2 kB)\n",
            "Downloading openseespy-3.7.1.2-py3-none-any.whl (5.3 kB)\n",
            "Downloading opsvis-1.2.30-py3-none-any.whl (54 kB)\n",
            "\u001b[2K   \u001b[90m━━━━━━━━━━━━━━━━━━━━━━━━━━━━━━━━━━━━━━━━\u001b[0m \u001b[32m54.7/54.7 kB\u001b[0m \u001b[31m468.9 kB/s\u001b[0m eta \u001b[36m0:00:00\u001b[0m\n",
            "\u001b[?25hDownloading openseespylinux-3.7.1.2-py3-none-any.whl (58.1 MB)\n",
            "\u001b[2K   \u001b[90m━━━━━━━━━━━━━━━━━━━━━━━━━━━━━━━━━━━━━━━━\u001b[0m \u001b[32m58.1/58.1 MB\u001b[0m \u001b[31m11.2 MB/s\u001b[0m eta \u001b[36m0:00:00\u001b[0m\n",
            "\u001b[?25hInstalling collected packages: openseespylinux, openseespy, opsvis\n",
            "Successfully installed openseespy-3.7.1.2 openseespylinux-3.7.1.2 opsvis-1.2.30\n"
          ]
        }
      ],
      "source": [
        "pip install openseespy opsvis"
      ]
    },
    {
      "cell_type": "code",
      "source": [
        "import openseespy.opensees as ops\n",
        "import opsvis as opsv\n",
        "import os\n",
        "import matplotlib.pyplot as plt"
      ],
      "metadata": {
        "id": "_Cqlgw-Er0Vv"
      },
      "execution_count": null,
      "outputs": []
    },
    {
      "cell_type": "code",
      "source": [
        "ops.wipe()\n",
        "DataDir = r'Output'\n",
        "if not os.path.exists(DataDir):\n",
        "  os.makedirs(DataDir)"
      ],
      "metadata": {
        "id": "uY5_DlWBtZDD"
      },
      "execution_count": null,
      "outputs": []
    },
    {
      "cell_type": "code",
      "source": [
        "\n",
        "# Creating 2D Model\n",
        "ops.model('Basic', '-ndm', 2, '-ndf', 3)\n",
        "\n",
        "# Defining problem\n",
        "numBay = 1\n",
        "numFloor = 1\n",
        "\n",
        "#1ft = 12 inch = 30cm\n",
        "\n",
        "#Parameters\n",
        "L = 30.0 #baywidth(in ft)\n",
        "H = 18.0 #storey-height (in ft)\n",
        "H2 = 14.0 #storey-height - vertical truss element\n",
        "l = 5.5 #horizontal truss element length\n",
        "Lc = 8 #Chord member length\n",
        "h = 4.0 #vertical member height\n",
        "\n",
        "F = 10.0 #no idea of units and earthquake's values\n",
        "\n",
        "#1 GPa = 145.038 ksi\n",
        "#Total Building Weight, W = 19839 kips\n",
        "#Total 10 stories and 5 bays, thus single structure weight:\n",
        "#w = 19839/50 = 396.78 kips\n",
        "#1 kip = 453.6 kg\n",
        "\n",
        "#Material properties(steel)\n",
        "E = 29007.6 #ksi(200 X 145.038)\n",
        "lm = 396.78 #lumped mass(in kips)\n",
        "Fy = 50.0 #ksi(assumed)\n",
        "\n",
        "#For column(W30X292 section)\n",
        "A_col = 86 #in^sq\n",
        "Ix = 14900 #in^4\n",
        "Iy = 1100 #in^4\n",
        "\n",
        "#Now, all double channels, thus area doubled, also MOI in case of\n",
        "#vertical channels gets simply doubled and in case of chords re-calculated.\n",
        "\n",
        "#For chord-2 (C10 X 30 x 1.5 in plate)\n",
        "A0 = 31.495 #in^2\n",
        "I2 = 132.18 #in^4\n",
        "\n",
        "#For vertical-1 (MC6X16.3)\n",
        "A1 = 9.58 #in^2\n",
        "Iv = 52.0 #in^4\n",
        "\n",
        "#For diagonals (MC10X25)\n",
        "A2 = 14.68 #in^2\n",
        "Id = 117.25\n",
        "\n",
        "#For chord-1(truss), vertical-SS(truss), and chord-SS(I-Section) {C10 X 30}\n",
        "A = 17.62 #in^2\n",
        "I1 = 34.52 #in^4 (About minor axis for chords)\n",
        "Ivs = 206.0 #in^4 (About major axis for the vertical member)\n",
        "\n",
        "# Defining Transformation for beam-column elements\n",
        "#ops.geomTransf('Linear', 1)\n",
        "ops.geomTransf('PDelta', 1)\n",
        "\n",
        "#storing coordinates in an array:\n",
        "#coords = [\n",
        "#    (10,0,0), (20,L,0),\n",
        "#    (11,0,H), (21,L,H),\n",
        "#    (110,0,H2), (210,L,H2),\n",
        "#    (111,l,H2), (112,2*l,H2),(113,2*l + Lc,H2), (114,L - l, H2),\n",
        "#    (115,l,H), (116,2*l,H),(117,2*l + Lc,H), (118,L - l, H),\n",
        "\n",
        "#]\n",
        "\n",
        "coords = [\n",
        "   (10,0,0), (20,L,0),  (11,0,H), (21,L,H),(110,0,H2), (210,L,H2),\n",
        "   (111,l,H2), (112,2*l,H2),(113,2*l + Lc,H2), (114,L - l, H2),\n",
        "   (115,l,H), (116,2*l,H),(117,2*l + Lc,H), (118,L - l, H),\n",
        "   (30,2*L,0), (31,2*L,H)\n",
        "]\n",
        "#generating node\n",
        "for tag, x, y in coords:\n",
        "    ops.node(tag, x, y)\n",
        "\n",
        "#Boundary conditions\n",
        "for i in [10,20,30]:\n",
        "  ops.fix(i,1,1,0)\n",
        "\n",
        "#Defining material(for truss elements)\n",
        "ops.uniaxialMaterial('Elastic', 1, E)\n",
        "\n",
        "#Defining all the elements('truss' and 'elasticBeamColumn' elements):\n",
        "#Main columns\n",
        "#ops.element('elasticBeamColumn', 1, 10, 11, A_col, E, Ix, 1)\n",
        "ops.element('elasticBeamColumn', 1, 10, 110, A_col, E, Ix, 1)\n",
        "#As Ix is about major axi0\n",
        "#ops.element('elasticBeamColumn', 2, 20, 21, A_col, E, Ix, 1)\n",
        "ops.element('elasticBeamColumn', 2, 20, 210, A_col, E, Ix, 1)\n",
        "\n",
        "#chord-2\n",
        "ops.element('elasticBeamColumn', 3, 110, 111, A0, E, I2, 1)\n",
        "ops.element('elasticBeamColumn', 4, 114, 210, A0, E, I2, 1)\n",
        "ops.element('elasticBeamColumn', 5, 11, 115, A0, E, I2, 1)\n",
        "ops.element('elasticBeamColumn', 6, 118, 21, A0, E, I2, 1)\n",
        "\n",
        "#ops.element('truss', 3, 110, 111, A0, 1)\n",
        "#ops.element('truss', 4, 114, 210, A0, 1)\n",
        "#ops.element('truss', 5, 11, 115, A0, 1)\n",
        "#ops.element('truss', 6, 118, 21, A0, 1)\n",
        "\n",
        "#Chord-1\n",
        "#ops.element('truss', 7, 111, 112, A, 1)\n",
        "#ops.element('truss', 8, 113, 114, A, 1)\n",
        "#ops.element('truss', 9, 115, 116, A, 1)\n",
        "#ops.element('truss', 10, 117, 118, A, 1)\n",
        "ops.element('elasticBeamColumn', 7, 111, 112, A, E, I1, 1)\n",
        "ops.element('elasticBeamColumn', 8, 113, 114, A, E, I1, 1)\n",
        "ops.element('elasticBeamColumn', 9, 115, 116, A, E, I1, 1)\n",
        "ops.element('elasticBeamColumn', 10, 117, 118, A, E, I1, 1)\n",
        "\n",
        "#Vertical-1\n",
        "#ops.element('truss', 11, 111, 115, A1, 1)\n",
        "#ops.element('truss', 12, 114, 118, A1, 1)\n",
        "ops.element('elasticBeamColumn', 11, 111, 115, A1, E, Iv, 1)\n",
        "ops.element('elasticBeamColumn', 12, 114, 118, A1, E, Iv, 1)\n",
        "\n",
        "#Vertical-SS\n",
        "#ops.element('truss', 13, 112, 116, A, 1)\n",
        "#ops.element('truss', 14, 113, 117, A, 1)\n",
        "ops.element('elasticBeamColumn', 13, 112, 116, A, E, Ivs, 1)\n",
        "ops.element('elasticBeamColumn', 14, 113, 117, A, E, Ivs, 1)\n",
        "\n",
        "#Diagonals\n",
        "#ops.element('truss', 15, 11, 111, A2, 1)\n",
        "#ops.element('truss', 16, 111, 116, A2, 1)\n",
        "#ops.element('truss', 17, 117, 114, A2, 1)\n",
        "#ops.element('truss', 18, 114, 21, A2, 1)\n",
        "ops.element('elasticBeamColumn', 15, 11, 111, A2, E, Id, 1)\n",
        "ops.element('elasticBeamColumn', 16, 111, 116, A2, E, Id, 1)\n",
        "ops.element('elasticBeamColumn', 17, 117, 114, A2, E, Id, 1)\n",
        "ops.element('elasticBeamColumn', 18, 114, 21, A2, E, Id, 1)\n",
        "\n",
        "#Chord-SS\n",
        "#ops.element('elasticBeamColumn', 19, 112, 113, A, E, I, 1)\n",
        "#ops.element('elasticBeamColumn', 20, 116, 117, A, E, I, 1)\n",
        "ops.element('elasticBeamColumn', 19, 112, 113, A, E, I1, 1)\n",
        "ops.element('elasticBeamColumn', 20, 116, 117, A, E, I1, 1)\n",
        "\n",
        "#added these two element\n",
        "#ops.element('elasticBeamColumn', 3, 11, 21, A, E, I, 1)\n",
        "ops.element('elasticBeamColumn', 21, 110, 11, A_col, E, Ix, 1)\n",
        "ops.element('elasticBeamColumn', 22, 210, 21, A_col, E, Ix, 1)\n",
        "\n",
        "#adding Lean on column and a beam to support\n",
        "ops.element('elasticBeamColumn', 23, 21, 31, 10*A1, E, 10*I1, 1)\n",
        "ops.element('elasticBeamColumn', 24, 31, 30, A_col, E, Ix, 1)\n",
        "ops.mass(31, lm, 0.0)\n",
        "ops.equalDOF(21, 31, 1, 2)\n",
        "\n",
        "#Loads\n",
        "ops.timeSeries(\"Linear\", 1)\n",
        "ops.pattern(\"Plain\", 1, 1)\n",
        "ops.load(11, 0.0, -F*100 , 0.0)"
      ],
      "metadata": {
        "id": "MQ1PQZXNr_WX"
      },
      "execution_count": null,
      "outputs": []
    },
    {
      "cell_type": "code",
      "source": [
        "ops.recorder(\"Node\", \"-file\", f\"{DataDir}/Displacement.out\", \"-time\",\"-closeOnWrite\",\n",
        "             \"-node\", 21, \"-dof\", 1, 2, \"disp\")\n",
        "ops.recorder(\"Node\", \"-file\", f\"{DataDir}/RBase.out\", \"-time\", \"-closeOnWrite\",\n",
        "             \"-node\", 21, \"-dof\", 1, 2, \"reaction\")"
      ],
      "metadata": {
        "colab": {
          "base_uri": "https://localhost:8080/"
        },
        "id": "F-FnNe2Hs63o",
        "outputId": "f7e2095d-8faa-4615-9385-f82a5f7fef58"
      },
      "execution_count": null,
      "outputs": [
        {
          "output_type": "execute_result",
          "data": {
            "text/plain": [
              "1"
            ]
          },
          "metadata": {},
          "execution_count": 5
        }
      ]
    },
    {
      "cell_type": "code",
      "source": [
        "# Analysis\n",
        "ops.constraints(\"Plain\")\n",
        "ops.numberer(\"Plain\")\n",
        "ops.system(\"BandSPD\")\n",
        "#ops.test('NormDispIncr', 1.0e-6, 10, 3)\n",
        "ops.algorithm(\"Linear\")\n",
        "ops.integrator(\"LoadControl\", 1)\n",
        "ops.analysis(\"Static\")\n",
        "\n",
        "\n",
        "\n",
        "# Perform static analysis:\n",
        "ops.analyze(10)"
      ],
      "metadata": {
        "colab": {
          "base_uri": "https://localhost:8080/"
        },
        "id": "S2T3QZj7trh6",
        "outputId": "b5cfefb1-6ab3-42db-9bc0-8b101d19e5e3"
      },
      "execution_count": null,
      "outputs": [
        {
          "output_type": "execute_result",
          "data": {
            "text/plain": [
              "0"
            ]
          },
          "metadata": {},
          "execution_count": 6
        }
      ]
    },
    {
      "cell_type": "code",
      "source": [
        "opsv.plot_model()"
      ],
      "metadata": {
        "colab": {
          "base_uri": "https://localhost:8080/",
          "height": 447
        },
        "id": "f9gwp6mpwd6A",
        "outputId": "7fd1c9f6-2c0b-4b83-ca56-f4b39610c864"
      },
      "execution_count": null,
      "outputs": [
        {
          "output_type": "execute_result",
          "data": {
            "text/plain": [
              "<Axes: >"
            ]
          },
          "metadata": {},
          "execution_count": 7
        },
        {
          "output_type": "display_data",
          "data": {
            "text/plain": [
              "<Figure size 640x480 with 1 Axes>"
            ],
            "image/png": "[encoded data removed]"
          },
          "metadata": {}
        }
      ]
    },
    {
      "cell_type": "code",
      "source": [
        "opsv.plot_load()\n"
      ],
      "metadata": {
        "colab": {
          "base_uri": "https://localhost:8080/",
          "height": 447
        },
        "id": "Ps-u2aynw3AD",
        "outputId": "c6f6dab2-6ced-4b6f-9e47-af8e91ed4d29"
      },
      "execution_count": null,
      "outputs": [
        {
          "output_type": "execute_result",
          "data": {
            "text/plain": [
              "<Axes: >"
            ]
          },
          "metadata": {},
          "execution_count": 8
        },
        {
          "output_type": "display_data",
          "data": {
            "text/plain": [
              "<Figure size 640x480 with 1 Axes>"
            ],
            "image/png": "[encoded data removed]"
          },
          "metadata": {}
        }
      ]
    },
    {
      "cell_type": "code",
      "source": [
        "print(ops.nodeDOFs(10))"
      ],
      "metadata": {
        "colab": {
          "base_uri": "https://localhost:8080/"
        },
        "id": "_iisbWC-7bVu",
        "outputId": "2ed52f36-cd73-49b4-da5f-960799b03f89"
      },
      "execution_count": null,
      "outputs": [
        {
          "output_type": "stream",
          "name": "stdout",
          "text": [
            "[-1, -1, 0]\n"
          ]
        }
      ]
    },
    {
      "cell_type": "code",
      "source": [],
      "metadata": {
        "id": "spbkmsx28_-G"
      },
      "execution_count": null,
      "outputs": []
    }
  ]
}