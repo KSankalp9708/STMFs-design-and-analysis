{
  "nbformat": 4,
  "nbformat_minor": 0,
  "metadata": {
    "colab": {
      "provenance": []
    },
    "kernelspec": {
      "name": "python3",
      "display_name": "Python 3"
    },
    "language_info": {
      "name": "python"
    }
  },
  "cells": [
    {
      "cell_type": "code",
      "execution_count": 1,
      "metadata": {
        "colab": {
          "base_uri": "https://localhost:8080/"
        },
        "id": "Pl9CpZhvkcBo",
        "outputId": "73a47a4b-ad4e-41fd-9ffb-b61129238234"
      },
      "outputs": [
        {
          "output_type": "stream",
          "name": "stdout",
          "text": [
            "Collecting openseespy\n",
            "  Downloading openseespy-3.7.1.2-py3-none-any.whl.metadata (2.3 kB)\n",
            "Collecting opsvis\n",
            "  Downloading opsvis-1.2.30-py3-none-any.whl.metadata (1.1 kB)\n",
            "Collecting openseespylinux>=3.7.1.2 (from openseespy)\n",
            "  Downloading openseespylinux-3.7.1.2-py3-none-any.whl.metadata (1.2 kB)\n",
            "Downloading openseespy-3.7.1.2-py3-none-any.whl (5.3 kB)\n",
            "Downloading opsvis-1.2.30-py3-none-any.whl (54 kB)\n",
            "\u001b[2K   \u001b[90m━━━━━━━━━━━━━━━━━━━━━━━━━━━━━━━━━━━━━━━━\u001b[0m \u001b[32m54.7/54.7 kB\u001b[0m \u001b[31m2.0 MB/s\u001b[0m eta \u001b[36m0:00:00\u001b[0m\n",
            "\u001b[?25hDownloading openseespylinux-3.7.1.2-py3-none-any.whl (58.1 MB)\n",
            "\u001b[2K   \u001b[90m━━━━━━━━━━━━━━━━━━━━━━━━━━━━━━━━━━━━━━━━\u001b[0m \u001b[32m58.1/58.1 MB\u001b[0m \u001b[31m17.8 MB/s\u001b[0m eta \u001b[36m0:00:00\u001b[0m\n",
            "\u001b[?25hInstalling collected packages: openseespylinux, openseespy, opsvis\n",
            "Successfully installed openseespy-3.7.1.2 openseespylinux-3.7.1.2 opsvis-1.2.30\n"
          ]
        }
      ],
      "source": [
        "pip install openseespy opsvis"
      ]
    },
    {
      "cell_type": "code",
      "source": [
        "import openseespy.opensees as ops\n",
        "import opsvis as opsv\n",
        "import os\n",
        "import matplotlib.pyplot as plt"
      ],
      "metadata": {
        "id": "5aVD5jkdkqg3"
      },
      "execution_count": 2,
      "outputs": []
    },
    {
      "cell_type": "code",
      "source": [
        "ops.wipe()\n",
        "DataDir = r'Output'\n",
        "if not os.path.exists(DataDir):\n",
        "  os.makedirs(DataDir)"
      ],
      "metadata": {
        "id": "GaaMK-K2kttH"
      },
      "execution_count": 3,
      "outputs": []
    },
    {
      "cell_type": "code",
      "source": [
        "\n",
        "# Creating 2D Model\n",
        "ops.model('Basic', '-ndm', 2, '-ndf', 3)\n",
        "\n",
        "# Defining problem\n",
        "numBay = 1\n",
        "numFloor = 1\n",
        "\n",
        "# Parameters\n",
        "L = 30.0 # bay width (in ft)\n",
        "H = 18.0 # storey height (in ft)\n",
        "H2 = 14.0 # height to lower chord of truss\n",
        "l = 5.5 # horizontal truss element length\n",
        "Lc = 8 # Chord member length\n",
        "h = 4.0 # vertical member height\n",
        "F = 10.0 # lateral load magnitude\n",
        "\n",
        "# Material properties (steel)\n",
        "E = 29007.6 # ksi\n",
        "lm = 396.78 # lumped mass (in kips)\n",
        "Fy = 50.0 # ksi (assumed)\n",
        "\n",
        "# Section properties\n",
        "A_col = 86 # in^2\n",
        "Ix = 14900 # in^4\n",
        "Iy = 1100 # in^4\n",
        "A0 = 31.495 # in^2 (Chord-2)\n",
        "I2 = 132.18 # in^4\n",
        "A1 = 9.58 # in^2 (Vertical-1)\n",
        "Iv = 52.0 # in^4\n",
        "A2 = 14.68 # in^2 (Diagonals)\n",
        "Id = 117.25 # in^4\n",
        "A = 17.62 # in^2 (Chord-1/SS/Vertical-SS)\n",
        "I1 = 34.52 # in^4\n",
        "Ivs = 206.0 # in^4\n",
        "\n",
        "b = 0.10\n",
        "R0, cR1, cR2 = 18.0, 0.925, 0.15 #Values from 3-Story building code\n",
        "\n",
        "ops.uniaxialMaterial('Steel02', 1, Fy, E, b, R0, cR1, cR2)\n",
        "\n",
        "# Geometric transformation for force-based elements\n",
        "ops.geomTransf('PDelta', 1)\n",
        "\n",
        "ops.beamIntegration('Lobatto', 1, 1, 5)\n",
        "\n",
        "#For defining fiber sections:\n",
        "# **Assuming all sections to be I sections**\n",
        "\n",
        "#For column(W30X292 section): SecTag = 1\n",
        "#For chord-2 (C10 X 30 x 1.5 in plate): SecTag = 2\n",
        "#For vertical-1 (MC6X16.3): SecTag = 3\n",
        "#For diagonals (MC10X25): SecTag = 4\n",
        "#For chord-1 & chord-SS{C10 X 30}: SecTag = 5\n",
        "#vertical-SS{C10 X 30}: SecTag = 6\n",
        "\n",
        "#for defining a function: get_fiber_counts(d, bf, tf, tw)\n",
        "#Storing d, bf, tf, tw values for all sections in arrays.\n",
        "#double channel, a/c to standard STMF idealization:\n",
        "#no need to consider 1 inch gap in any of the d, bf, tf, tw calculation.\n",
        "#d, tf and bf stays the same while tw gets doubled\n",
        "#For plate case: tw_eff = 2*tw + plate thickness(.673*2 + 1.5)\n",
        "\n",
        "#depth = [32.0, 10.0, 6.0, 10.0, 10.0, 10.0] #d\n",
        "#w_flange = [15.3, 3.03, 3.0, 3.41, 3.03, 3.03] #bf\n",
        "#t_flange = [1.85, 0.436, .475, .575, .436, .436] #tf\n",
        "#t_web = [1.02, 2.846, .75, 0.76, 1.346, 1.346] #tw\n",
        "\n",
        "def get_fiber_counts(d, bf, tf, tw):\n",
        "  n_bf = max(1, int(bf / 0.5))       # fibers along flange width\n",
        "  n_tf = max(1, int(tf / 0.25))      # fibers along flange thickness\n",
        "  web_height = d - 2 * tf\n",
        "  n_tw = max(1, int(tw / 0.25))      # fibers along web thickness\n",
        "  n_web = max(4, int(web_height / 0.5))  # vertical fibers in web\n",
        "  return (d, bf, tf, tw, n_bf, n_tf, n_tw, n_web)\n",
        "#no_bf=[]\n",
        "#no_tf=[]\n",
        "#no_tw=[]\n",
        "#no_web=[]\n",
        "#for i in range(len(depth)):\n",
        "#  no_bf, no_tf, no_tw, no_web = get_fiber_counts(depth[i], w_flange[i], t_flange[i], t_web[i])\n",
        "\n",
        "sections = [\n",
        "    get_fiber_counts(32.0, 15.3, 1.85, 1.02),     # Main column\n",
        "    get_fiber_counts(10.0, 3.03, 0.436, 2.846),# Chord-2\n",
        "    get_fiber_counts(6.0, 3.0, 0.475, 0.75),# Vertical-1\n",
        "    get_fiber_counts(10.0, 3.41, 0.575, 0.76),# Diagonal\n",
        "    get_fiber_counts(10.0, 3.03, 0.436, 1.346),# Chord-SS\n",
        "    get_fiber_counts(10.0, 3.03, 0.436, 1.346) # Vertical-SS\n",
        "]\n",
        "\n",
        "#Loop to define all 6 fibersections(assuming I sections)\n",
        "def define_fiber_sections():\n",
        "    for i, (d, bf, tf, tw, n_bf, n_tf, n_tw, n_web) in enumerate(sections):\n",
        "        secTag = i + 1\n",
        "\n",
        "        ops.section('Fiber', secTag, '-GJ', 1e6)\n",
        "\n",
        "        # Top flange\n",
        "        ops.patch('rect', 1, n_bf, n_tf,\n",
        "                  -bf/2, d/2 - tf,\n",
        "                   bf/2, d/2)\n",
        "\n",
        "        # Web\n",
        "        ops.patch('rect', 1, n_tw, n_web,\n",
        "                  -tw/2, -d/2 + tf,\n",
        "                   tw/2,  d/2 - tf)\n",
        "\n",
        "        # Bottom flange\n",
        "        ops.patch('rect', 1, n_bf, n_tf,\n",
        "                  -bf/2, -d/2,\n",
        "                   bf/2, -d/2 + tf)\n",
        "\n",
        "\n",
        "define_fiber_sections()\n",
        "\n",
        "# Node coordinates\n",
        "coords = [\n",
        "    (10,0,0), (20,L,0), (11,0,H), (21,L,H),\n",
        "    (110,0,H2), (210,L,H2),\n",
        "    (111,l,H2), (112,2*l,H2), (113,2*l + Lc,H2), (114,L - l,H2),\n",
        "    (115,l,H), (116,2*l,H), (117,2*l + Lc,H), (118,L - l,H),\n",
        "    (30,2*L,0), (31,2*L,H)\n",
        "]\n",
        "for tag, x, y in coords:\n",
        "    ops.node(tag, x, y)\n",
        "\n",
        "# Boundary conditions\n",
        "for i in [10,20,30]:\n",
        "    ops.fix(i,1,1,0)\n",
        "\n",
        "# Main columns\n",
        "ops.element('forceBeamColumn', 1, 10, 110, 1, 1, '1')\n",
        "ops.element('forceBeamColumn', 2, 20, 210, 1, 1, '1')\n",
        "ops.element('forceBeamColumn', 21, 110, 11, 1, 1, '1')\n",
        "ops.element('forceBeamColumn', 22, 210, 21, 1, 1, '1')\n",
        "\n",
        "# Chord-2\n",
        "ops.element('forceBeamColumn', 3, 110, 111, 1, 1, '2')\n",
        "ops.element('forceBeamColumn', 4, 114, 210, 1, 1, '2')\n",
        "ops.element('forceBeamColumn', 5, 11, 115, 1, 1, '2')\n",
        "ops.element('forceBeamColumn', 6, 118, 21, 1, 1, '2')\n",
        "\n",
        "# Chord-1\n",
        "ops.element('forceBeamColumn', 7, 111, 112, 1, 1, '5')\n",
        "ops.element('forceBeamColumn', 8, 113, 114, 1, 1, '5')\n",
        "ops.element('forceBeamColumn', 9, 115, 116, 1, 1, '5')\n",
        "ops.element('forceBeamColumn', 10, 117, 118, 1, 1, '5')\n",
        "\n",
        "# Vertical-1\n",
        "ops.element('forceBeamColumn', 11, 111, 115, 1, 1, '3')\n",
        "ops.element('forceBeamColumn', 12, 114, 118, 1, 1, '3')\n",
        "\n",
        "# Vertical-SS\n",
        "ops.element('forceBeamColumn', 13, 112, 116, 1, 1, '6')\n",
        "ops.element('forceBeamColumn', 14, 113, 117, 1, 1, '6')\n",
        "\n",
        "# Diagonals\n",
        "ops.element('forceBeamColumn', 15, 11, 111, 1, 1, '4')\n",
        "ops.element('forceBeamColumn', 16, 111, 116, 1, 1, '4')\n",
        "ops.element('forceBeamColumn', 17, 117, 114, 1, 1, '4')\n",
        "ops.element('forceBeamColumn', 18, 114, 21, 1, 1, '4')\n",
        "\n",
        "# Chord-SS\n",
        "ops.element('forceBeamColumn', 19, 112, 113, 1, 1, '5')\n",
        "ops.element('forceBeamColumn', 20, 116, 117, 1, 1, '5')\n",
        "\n",
        "# Lean-on column and support\n",
        "ops.section('Elastic', 7, E, 10*A1, 10*I1)\n",
        "ops.element('forceBeamColumn', 23, 21, 31, 1, 1, '7')\n",
        "ops.element('forceBeamColumn', 24, 31, 30, 1, 1, '1')\n",
        "ops.mass(31, lm, 0.0)\n",
        "ops.equalDOF(21, 31, 1, 2)\n",
        "\n",
        "# Loading\n",
        "ops.timeSeries(\"Linear\", 1)\n",
        "ops.pattern(\"Plain\", 1, 1)\n",
        "ops.load(11, 0.0, -F*100, 0.0)\n"
      ],
      "metadata": {
        "id": "QLSBpzyMk32y"
      },
      "execution_count": 4,
      "outputs": []
    },
    {
      "cell_type": "code",
      "source": [
        "ops.recorder('Node', '-file', 'disp.out', '-time', '-node', 11, 21, 116, 117, '-dof', 1,2, 3, 'disp')\n",
        "ops.recorder('Element', '-file', 'forces.out', '-time', '-ele', 1, 2, 3, 4, 19, 20, 'force')\n"
      ],
      "metadata": {
        "colab": {
          "base_uri": "https://localhost:8080/"
        },
        "id": "7ogZRRqVnlU_",
        "outputId": "184aeea1-1da5-45ec-ba4b-38d8de586419"
      },
      "execution_count": 5,
      "outputs": [
        {
          "output_type": "execute_result",
          "data": {
            "text/plain": [
              "1"
            ]
          },
          "metadata": {},
          "execution_count": 5
        }
      ]
    },
    {
      "cell_type": "code",
      "source": [
        "# Analysis\n",
        "ops.constraints(\"Plain\")\n",
        "ops.numberer(\"RCM\")\n",
        "ops.system(\"BandGeneral\")\n",
        "ops.test('NormDispIncr', 1.0e-6, 10)\n",
        "ops.algorithm(\"Newton\") #Linear -> Newton (for non-linear)\n",
        "ops.integrator(\"LoadControl\", 1)\n",
        "ops.analysis(\"Static\")\n",
        "\n",
        "\n",
        "\n",
        "# Perform static analysis:\n",
        "ops.analyze(1)"
      ],
      "metadata": {
        "colab": {
          "base_uri": "https://localhost:8080/"
        },
        "id": "zows2k8Jnp1f",
        "outputId": "88e8351a-ae9b-49f0-fdd6-65335131891d"
      },
      "execution_count": 6,
      "outputs": [
        {
          "output_type": "execute_result",
          "data": {
            "text/plain": [
              "0"
            ]
          },
          "metadata": {},
          "execution_count": 6
        }
      ]
    },
    {
      "cell_type": "code",
      "source": [
        "# Get displacement at node 11\n",
        "ux, uy, rz = ops.nodeDisp(11)\n",
        "print(f'Displacement at Node 11: ux = {ux:.5f}, uy = {uy:.5f}, rz = {rz:.5f}')\n",
        "\n",
        "# Example for element tag 1\n",
        "print('Element forces (global):', ops.eleForce(1))\n"
      ],
      "metadata": {
        "colab": {
          "base_uri": "https://localhost:8080/"
        },
        "id": "_v54kkyPn4Ui",
        "outputId": "c24e91a3-15ed-42c6-9a61-2f8cfd6d927a"
      },
      "execution_count": 7,
      "outputs": [
        {
          "output_type": "stream",
          "name": "stdout",
          "text": [
            "Displacement at Node 11: ux = -0.00229, uy = -0.00634, rz = 0.00026\n",
            "Element forces (global): [-14.844727363791044, 965.3315367966718, 6.208243364874827e-14, 14.844727363791044, -965.3315367966718, 206.37681727390205]\n"
          ]
        }
      ]
    },
    {
      "cell_type": "code",
      "source": [
        "opsv.plot_model()"
      ],
      "metadata": {
        "colab": {
          "base_uri": "https://localhost:8080/",
          "height": 447
        },
        "id": "eDwx_3myorVA",
        "outputId": "2b7e7d75-93a2-48e2-fca7-1f4df134d6e2"
      },
      "execution_count": 8,
      "outputs": [
        {
          "output_type": "execute_result",
          "data": {
            "text/plain": [
              "<Axes: >"
            ]
          },
          "metadata": {},
          "execution_count": 8
        },
        {
          "output_type": "display_data",
          "data": {
            "text/plain": [
              "<Figure size 640x480 with 1 Axes>"
            ],
            "image/png": "[encoded data removed]"
          },
          "metadata": {}
        }
      ]
    },
    {
      "cell_type": "code",
      "source": [
        "opsv.plot_load()"
      ],
      "metadata": {
        "colab": {
          "base_uri": "https://localhost:8080/",
          "height": 447
        },
        "id": "RJienXgcovv9",
        "outputId": "ff557f99-4db8-4f4e-b321-03300b0b72c1"
      },
      "execution_count": 9,
      "outputs": [
        {
          "output_type": "execute_result",
          "data": {
            "text/plain": [
              "<Axes: >"
            ]
          },
          "metadata": {},
          "execution_count": 9
        },
        {
          "output_type": "display_data",
          "data": {
            "text/plain": [
              "<Figure size 640x480 with 1 Axes>"
            ],
            "image/png": "[encoded data removed]"
          },
          "metadata": {}
        }
      ]
    },
    {
      "cell_type": "code",
      "source": [
        "opsv.plot_defo()"
      ],
      "metadata": {
        "colab": {
          "base_uri": "https://localhost:8080/",
          "height": 447
        },
        "id": "TA9xb75ro0Z0",
        "outputId": "f25625be-7e82-4dde-c775-897974a71e4d"
      },
      "execution_count": 11,
      "outputs": [
        {
          "output_type": "execute_result",
          "data": {
            "text/plain": [
              "np.float64(926.2977664206585)"
            ]
          },
          "metadata": {},
          "execution_count": 11
        },
        {
          "output_type": "display_data",
          "data": {
            "text/plain": [
              "<Figure size 640x480 with 1 Axes>"
            ],
            "image/png": "[encoded data removed]"
          },
          "metadata": {}
        }
      ]
    }
  ]
}