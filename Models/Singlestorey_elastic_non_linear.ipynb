{
  "nbformat": 4,
  "nbformat_minor": 0,
  "metadata": {
    "colab": {
      "provenance": []
    },
    "kernelspec": {
      "name": "python3",
      "display_name": "Python 3"
    },
    "language_info": {
      "name": "python"
    }
  },
  "cells": [
    {
      "cell_type": "code",
      "execution_count": 1,
      "metadata": {
        "colab": {
          "base_uri": "https://localhost:8080/"
        },
        "id": "GHrn2vRxVVID",
        "outputId": "18e1d8c3-7bc1-4e98-ceb4-697dd93a9c7d"
      },
      "outputs": [
        {
          "output_type": "stream",
          "name": "stdout",
          "text": [
            "Collecting openseespy\n",
            "  Downloading openseespy-3.7.1.2-py3-none-any.whl.metadata (2.3 kB)\n",
            "Collecting opsvis\n",
            "  Downloading opsvis-1.2.30-py3-none-any.whl.metadata (1.1 kB)\n",
            "Collecting openseespylinux>=3.7.1.2 (from openseespy)\n",
            "  Downloading openseespylinux-3.7.1.2-py3-none-any.whl.metadata (1.2 kB)\n",
            "Downloading openseespy-3.7.1.2-py3-none-any.whl (5.3 kB)\n",
            "Downloading opsvis-1.2.30-py3-none-any.whl (54 kB)\n",
            "\u001b[2K   \u001b[90m━━━━━━━━━━━━━━━━━━━━━━━━━━━━━━━━━━━━━━━━\u001b[0m \u001b[32m54.7/54.7 kB\u001b[0m \u001b[31m3.4 MB/s\u001b[0m eta \u001b[36m0:00:00\u001b[0m\n",
            "\u001b[?25hDownloading openseespylinux-3.7.1.2-py3-none-any.whl (58.1 MB)\n",
            "\u001b[2K   \u001b[90m━━━━━━━━━━━━━━━━━━━━━━━━━━━━━━━━━━━━━━━━\u001b[0m \u001b[32m58.1/58.1 MB\u001b[0m \u001b[31m16.1 MB/s\u001b[0m eta \u001b[36m0:00:00\u001b[0m\n",
            "\u001b[?25hInstalling collected packages: openseespylinux, openseespy, opsvis\n",
            "Successfully installed openseespy-3.7.1.2 openseespylinux-3.7.1.2 opsvis-1.2.30\n"
          ]
        }
      ],
      "source": [
        "pip install openseespy opsvis"
      ]
    },
    {
      "cell_type": "code",
      "source": [
        "import openseespy.opensees as ops\n",
        "import opsvis as opsv\n",
        "import os\n",
        "import matplotlib.pyplot as plt"
      ],
      "metadata": {
        "id": "JGtKZXqkVdzj"
      },
      "execution_count": 2,
      "outputs": []
    },
    {
      "cell_type": "code",
      "source": [
        "ops.wipe()\n",
        "DataDir = r'Output'\n",
        "if not os.path.exists(DataDir):\n",
        "  os.makedirs(DataDir)"
      ],
      "metadata": {
        "id": "yosRT0lUVhRO"
      },
      "execution_count": 3,
      "outputs": []
    },
    {
      "cell_type": "code",
      "source": [
        "\n",
        "# Creating 2D Model\n",
        "ops.model('Basic', '-ndm', 2, '-ndf', 3)\n",
        "\n",
        "# Defining problem\n",
        "numBay = 1\n",
        "numFloor = 1\n",
        "\n",
        "# Parameters\n",
        "L = 30.0 # bay width (in ft)\n",
        "H = 18.0 # storey height (in ft)\n",
        "H2 = 14.0 # height to lower chord of truss\n",
        "l = 5.5 # horizontal truss element length\n",
        "Lc = 8 # Chord member length\n",
        "h = 4.0 # vertical member height\n",
        "F = 10.0 # lateral load magnitude\n",
        "\n",
        "# Material properties (steel)\n",
        "E = 29007.6 # ksi\n",
        "lm = 396.78 # lumped mass (in kips)\n",
        "Fy = 50.0 # ksi (assumed)\n",
        "\n",
        "# Section properties\n",
        "A_col = 86 # in^2\n",
        "Ix = 14900 # in^4\n",
        "Iy = 1100 # in^4\n",
        "A0 = 31.495 # in^2 (Chord-2)\n",
        "I2 = 132.18 # in^4\n",
        "A1 = 9.58 # in^2 (Vertical-1)\n",
        "Iv = 52.0 # in^4\n",
        "A2 = 14.68 # in^2 (Diagonals)\n",
        "Id = 117.25 # in^4\n",
        "A = 17.62 # in^2 (Chord-1/SS/Vertical-SS)\n",
        "I1 = 34.52 # in^4\n",
        "Ivs = 206.0 # in^4\n",
        "\n",
        "# Geometric transformation for force-based elements\n",
        "ops.geomTransf('PDelta', 1)\n",
        "\n",
        "ops.beamIntegration('Lobatto', 1, 1, 5)\n",
        "\n",
        "# Define elastic section IDs for forceBeamColumn usage\n",
        "ops.section('Elastic', 1, E, A_col, Ix)\n",
        "ops.section('Elastic', 2, E, A0, I2)\n",
        "ops.section('Elastic', 3, E, A1, Iv)\n",
        "ops.section('Elastic', 4, E, A2, Id)\n",
        "ops.section('Elastic', 5, E, A, I1)\n",
        "ops.section('Elastic', 6, E, A, Ivs)\n",
        "\n",
        "# Node coordinates\n",
        "coords = [\n",
        "    (10,0,0), (20,L,0), (11,0,H), (21,L,H),\n",
        "    (110,0,H2), (210,L,H2),\n",
        "    (111,l,H2), (112,2*l,H2), (113,2*l + Lc,H2), (114,L - l,H2),\n",
        "    (115,l,H), (116,2*l,H), (117,2*l + Lc,H), (118,L - l,H),\n",
        "    (30,2*L,0), (31,2*L,H)\n",
        "]\n",
        "for tag, x, y in coords:\n",
        "    ops.node(tag, x, y)\n",
        "\n",
        "# Boundary conditions\n",
        "for i in [10,20,30]:\n",
        "    ops.fix(i,1,1,0)\n",
        "\n",
        "# Main columns\n",
        "ops.element('forceBeamColumn', 1, 10, 110, 1, 1, '1')\n",
        "ops.element('forceBeamColumn', 2, 20, 210, 1, 1, '1')\n",
        "ops.element('forceBeamColumn', 21, 110, 11, 1, 1, '1')\n",
        "ops.element('forceBeamColumn', 22, 210, 21, 1, 1, '1')\n",
        "\n",
        "# Chord-2\n",
        "ops.element('forceBeamColumn', 3, 110, 111, 1, 1, '2')\n",
        "ops.element('forceBeamColumn', 4, 114, 210, 1, 1, '2')\n",
        "ops.element('forceBeamColumn', 5, 11, 115, 1, 1, '2')\n",
        "ops.element('forceBeamColumn', 6, 118, 21, 1, 1, '2')\n",
        "\n",
        "# Chord-1\n",
        "ops.element('forceBeamColumn', 7, 111, 112, 1, 1, '5')\n",
        "ops.element('forceBeamColumn', 8, 113, 114, 1, 1, '5')\n",
        "ops.element('forceBeamColumn', 9, 115, 116, 1, 1, '5')\n",
        "ops.element('forceBeamColumn', 10, 117, 118, 1, 1, '5')\n",
        "\n",
        "# Vertical-1\n",
        "ops.element('forceBeamColumn', 11, 111, 115, 1, 1, '3')\n",
        "ops.element('forceBeamColumn', 12, 114, 118, 1, 1, '3')\n",
        "\n",
        "# Vertical-SS\n",
        "ops.element('forceBeamColumn', 13, 112, 116, 1, 1, '6')\n",
        "ops.element('forceBeamColumn', 14, 113, 117, 1, 1, '6')\n",
        "\n",
        "# Diagonals\n",
        "ops.element('forceBeamColumn', 15, 11, 111, 1, 1, '4')\n",
        "ops.element('forceBeamColumn', 16, 111, 116, 1, 1, '4')\n",
        "ops.element('forceBeamColumn', 17, 117, 114, 1, 1, '4')\n",
        "ops.element('forceBeamColumn', 18, 114, 21, 1, 1, '4')\n",
        "\n",
        "# Chord-SS\n",
        "ops.element('forceBeamColumn', 19, 112, 113, 1, 1, '5')\n",
        "ops.element('forceBeamColumn', 20, 116, 117, 1, 1, '5')\n",
        "\n",
        "# Lean-on column and support\n",
        "ops.section('Elastic', 7, E, 10*A1, 10*I1)\n",
        "ops.element('forceBeamColumn', 23, 21, 31, 1, 1, '7')\n",
        "ops.element('forceBeamColumn', 24, 31, 30, 1, 1, '1')\n",
        "ops.mass(31, lm, 0.0)\n",
        "ops.equalDOF(21, 31, 1, 2)\n",
        "\n",
        "# Loading\n",
        "ops.timeSeries(\"Linear\", 1)\n",
        "ops.pattern(\"Plain\", 1, 1)\n",
        "ops.load(11, 0.0, -F*100, 0.0)\n"
      ],
      "metadata": {
        "id": "qLG3uskRVk1f"
      },
      "execution_count": 4,
      "outputs": []
    },
    {
      "cell_type": "code",
      "source": [
        "ops.recorder('Node', '-file', 'disp.out', '-time', '-node', 11, 21, 116, 117, '-dof', 1,2, 3, 'disp')\n",
        "ops.recorder('Element', '-file', 'forces.out', '-time', '-ele', 1, 2, 3, 4, 19, 20, 'force')\n"
      ],
      "metadata": {
        "colab": {
          "base_uri": "https://localhost:8080/"
        },
        "id": "nWMXZGoUXjnj",
        "outputId": "1ce3a912-a31d-4130-be3e-d1a2fdf2fae8"
      },
      "execution_count": 5,
      "outputs": [
        {
          "output_type": "execute_result",
          "data": {
            "text/plain": [
              "1"
            ]
          },
          "metadata": {},
          "execution_count": 5
        }
      ]
    },
    {
      "cell_type": "code",
      "source": [
        "# Analysis\n",
        "ops.constraints(\"Plain\")\n",
        "ops.numberer(\"RCM\")\n",
        "ops.system(\"BandGeneral\")\n",
        "ops.test('NormDispIncr', 1.0e-6, 10)\n",
        "ops.algorithm(\"Linear\")\n",
        "ops.integrator(\"LoadControl\", 1)\n",
        "ops.analysis(\"Static\")\n",
        "\n",
        "\n",
        "\n",
        "# Perform static analysis:\n",
        "ops.analyze(1)"
      ],
      "metadata": {
        "colab": {
          "base_uri": "https://localhost:8080/"
        },
        "id": "b_l9AGgqX8qi",
        "outputId": "b8af007f-fe51-4c63-e06b-e661561f473e"
      },
      "execution_count": 6,
      "outputs": [
        {
          "output_type": "execute_result",
          "data": {
            "text/plain": [
              "0"
            ]
          },
          "metadata": {},
          "execution_count": 6
        }
      ]
    },
    {
      "cell_type": "code",
      "source": [
        "# Get displacement at node 11\n",
        "ux, uy, rz = ops.nodeDisp(11)\n",
        "print(f'Displacement at Node 11: ux = {ux:.5f}, uy = {uy:.5f}, rz = {rz:.5f}')\n",
        "\n",
        "# Example for element tag 1\n",
        "print('Element forces (global):', ops.eleForce(1))\n"
      ],
      "metadata": {
        "colab": {
          "base_uri": "https://localhost:8080/"
        },
        "id": "UqrLSiZ8YPRw",
        "outputId": "393af2f1-ba43-4aa2-a510-f3db3708e891"
      },
      "execution_count": 7,
      "outputs": [
        {
          "output_type": "stream",
          "name": "stdout",
          "text": [
            "Displacement at Node 11: ux = -0.00163, uy = -0.00431, rz = 0.00013\n",
            "Element forces (global): [-140.81323930823493, 732.2378021067551, -2.4554800544673246e-13, 140.81323930823493, -732.2378021067551, 1970.5341242579102]\n"
          ]
        }
      ]
    },
    {
      "cell_type": "code",
      "source": [
        "opsv.plot_model()"
      ],
      "metadata": {
        "colab": {
          "base_uri": "https://localhost:8080/",
          "height": 447
        },
        "id": "7SigvMHcoIuT",
        "outputId": "142c16cd-bc54-47ac-a506-73f82e7e6b2e"
      },
      "execution_count": 8,
      "outputs": [
        {
          "output_type": "execute_result",
          "data": {
            "text/plain": [
              "<Axes: >"
            ]
          },
          "metadata": {},
          "execution_count": 8
        },
        {
          "output_type": "display_data",
          "data": {
            "text/plain": [
              "<Figure size 640x480 with 1 Axes>"
            ],
            "image/png": "[encoded data removed]"
          },
          "metadata": {}
        }
      ]
    },
    {
      "cell_type": "code",
      "source": [
        "opsv.plot_load()"
      ],
      "metadata": {
        "colab": {
          "base_uri": "https://localhost:8080/",
          "height": 447
        },
        "id": "fKnr7lOxoOJM",
        "outputId": "f8ee3382-878f-4c2d-c737-f43aea8bae46"
      },
      "execution_count": 9,
      "outputs": [
        {
          "output_type": "execute_result",
          "data": {
            "text/plain": [
              "<Axes: >"
            ]
          },
          "metadata": {},
          "execution_count": 9
        },
        {
          "output_type": "display_data",
          "data": {
            "text/plain": [
              "<Figure size 640x480 with 1 Axes>"
            ],
            "image/png": "[encoded data removed]"
          },
          "metadata": {}
        }
      ]
    },
    {
      "cell_type": "code",
      "source": [
        "ops.printModel()"
      ],
      "metadata": {
        "colab": {
          "base_uri": "https://localhost:8080/"
        },
        "id": "ixSkfjQ5oUe-",
        "outputId": "68f0c113-2357-4b5e-cf80-01a9f03a7d08"
      },
      "execution_count": 10,
      "outputs": [
        {
          "output_type": "stream",
          "name": "stderr",
          "text": [
            "Current Domain Information\n",
            "\tCurrent Time: 1\n",
            "\tCommitted Time: 1\n",
            "NODE DATA: NumNodes: 16\n",
            "\n",
            "numComponents: 16\n",
            "\n",
            " Node: 10\n",
            "\tCoordinates  : 0 0 \n",
            "\tDisps: 0 0 7.23976e-05 \n",
            "\t unbalanced Load: 0 0 0 \n",
            "\tID : -1 -1 39 \n",
            "\n",
            "\n",
            " Node: 11\n",
            "\tCoordinates  : 0 18 \n",
            "\tDisps: -0.00162557 -0.00431131 0.0001283 \n",
            "\t unbalanced Load: 0 -1000 0 \n",
            "\tID : 33 34 35 \n",
            "\n",
            "\n",
            " Node: 20\n",
            "\tCoordinates  : 30 0 \n",
            "\tDisps: 0 0 6.70197e-05 \n",
            "\t unbalanced Load: 0 0 0 \n",
            "\tID : -1 -1 1 \n",
            "\n",
            "\n",
            " Node: 21\n",
            "\tCoordinates  : 30 18 \n",
            "\tDisps: -0.00127969 -0.000838787 6.86965e-05 \n",
            "\t unbalanced Load: 0 0 0 \n",
            "\tID : 6 7 8 \n",
            "\n",
            "\n",
            " Node: 30\n",
            "\tCoordinates  : 60 0 \n",
            "\tDisps: 0 0 9.45253e-05 \n",
            "\t unbalanced Load: 0 0 0 \n",
            "\tID : -1 -1 0 \n",
            "\n",
            "\n",
            " Node: 31\n",
            "\tCoordinates  : 60 18 \n",
            "\tDisps: -0.00127969 -0.000838787 2.42306e-05 \n",
            "\t unbalanced Load: 0 0 0 \n",
            "\tMass : \n",
            "396.78 0 0 \n",
            "0 0 0 \n",
            "0 0 0 \n",
            "\n",
            "\t Rayleigh Factor: alphaM: 0\n",
            "\t Rayleigh Forces: 0 0 0 \n",
            "\tID : 6 7 2 \n",
            "\n",
            "\n",
            " Node: 110\n",
            "\tCoordinates  : 0 14 \n",
            "\tDisps: -0.0011625 -0.00410932 0.000104312 \n",
            "\t unbalanced Load: 0 0 0 \n",
            "\tID : 36 37 38 \n",
            "\n",
            "\n",
            " Node: 111\n",
            "\tCoordinates  : 5.5 14 \n",
            "\tDisps: -0.00123655 -0.00350626 0.000122056 \n",
            "\t unbalanced Load: 0 0 0 \n",
            "\tID : 30 31 32 \n",
            "\n",
            "\n",
            " Node: 112\n",
            "\tCoordinates  : 11 14 \n",
            "\tDisps: -0.00123607 -0.00282813 0.000123953 \n",
            "\t unbalanced Load: 0 0 0 \n",
            "\tID : 24 25 26 \n",
            "\n",
            "\n",
            " Node: 113\n",
            "\tCoordinates  : 19 14 \n",
            "\tDisps: -0.00104297 -0.00188926 0.000109358 \n",
            "\t unbalanced Load: 0 0 0 \n",
            "\tID : 18 19 20 \n",
            "\n",
            "\n",
            " Node: 114\n",
            "\tCoordinates  : 24.5 14 \n",
            "\tDisps: -0.00101924 -0.00132805 9.42493e-05 \n",
            "\t unbalanced Load: 0 0 0 \n",
            "\tID : 12 13 14 \n",
            "\n",
            "\n",
            " Node: 115\n",
            "\tCoordinates  : 5.5 18 \n",
            "\tDisps: -0.00174859 -0.00357438 0.000134329 \n",
            "\t unbalanced Load: 0 0 0 \n",
            "\tID : 27 28 29 \n",
            "\n",
            "\n",
            " Node: 116\n",
            "\tCoordinates  : 11 18 \n",
            "\tDisps: -0.001741 -0.00283924 0.00012814 \n",
            "\t unbalanced Load: 0 0 0 \n",
            "\tID : 21 22 23 \n",
            "\n",
            "\n",
            " Node: 117\n",
            "\tCoordinates  : 19 18 \n",
            "\tDisps: -0.00148273 -0.00186255 0.00011083 \n",
            "\t unbalanced Load: 0 0 0 \n",
            "\tID : 15 16 17 \n",
            "\n",
            "\n",
            " Node: 118\n",
            "\tCoordinates  : 24.5 18 \n",
            "\tDisps: -0.0013968 -0.00129308 9.46145e-05 \n",
            "\t unbalanced Load: 0 0 0 \n",
            "\tID : 9 10 11 \n",
            "\n",
            "\n",
            " Node: 210\n",
            "\tCoordinates  : 30 14 \n",
            "\tDisps: -0.000987788 -0.000850292 7.76295e-05 \n",
            "\t unbalanced Load: 0 0 0 \n",
            "\tID : 3 4 5 \n",
            "\n",
            "ELEMENT DATA: NumEle: 24\n",
            "\n",
            "numComponents: 24\n",
            "\n",
            "Element: 1 Type: ForceBeamColumn2d \tConnected Nodes: 10 110 \n",
            "\tNumber of Sections: 5\tMass density: 0\n",
            "Lobatto\n",
            "\tEnd 1 Forces (P V M): 732.238 140.752 -2.45548e-13\n",
            "\tEnd 2 Forces (P V M): -732.238 -140.752 1970.53\n",
            "\n",
            "Element: 2 Type: ForceBeamColumn2d \tConnected Nodes: 20 210 \n",
            "\tNumber of Sections: 5\tMass density: 0\n",
            "Lobatto\n",
            "\tEnd 1 Forces (P V M): 151.513 46.7925 -1.3074e-12\n",
            "\tEnd 2 Forces (P V M): -151.513 -46.7925 655.095\n",
            "\n",
            "Element: 3 Type: ForceBeamColumn2d \tConnected Nodes: 110 111 \n",
            "\tNumber of Sections: 5\tMass density: 0\n",
            "Lobatto\n",
            "\tEnd 1 Forces (P V M): 33.5873 606.261 272.837\n",
            "\tEnd 2 Forces (P V M): -33.5873 -606.261 3061.6\n",
            "\n",
            "Element: 4 Type: ForceBeamColumn2d \tConnected Nodes: 114 210 \n",
            "\tNumber of Sections: 5\tMass density: 0\n",
            "Lobatto\n",
            "\tEnd 1 Forces (P V M): -14.2665 -158.689 869.663\n",
            "\tEnd 2 Forces (P V M): 14.2665 158.689 -1742.45\n",
            "\n",
            "Element: 5 Type: ForceBeamColumn2d \tConnected Nodes: 11 115 \n",
            "\tNumber of Sections: 5\tMass density: 0\n",
            "Lobatto\n",
            "\tEnd 1 Forces (P V M): 55.7968 -458.488 -1734.62\n",
            "\tEnd 2 Forces (P V M): -55.7968 458.488 -787.066\n",
            "\n",
            "Element: 6 Type: ForceBeamColumn2d \tConnected Nodes: 118 21 \n",
            "\tNumber of Sections: 5\tMass density: 0\n",
            "Lobatto\n",
            "\tEnd 1 Forces (P V M): -53.1172 -161.847 1591.66\n",
            "\tEnd 2 Forces (P V M): 53.1172 161.847 -2481.82\n",
            "\n",
            "Element: 7 Type: ForceBeamColumn2d \tConnected Nodes: 111 112 \n",
            "\tNumber of Sections: 5\tMass density: 0\n",
            "Lobatto\n",
            "\tEnd 1 Forces (P V M): -0.217141 -50.016 -286.688\n",
            "\tEnd 2 Forces (P V M): 0.217141 50.016 11.6001\n",
            "\n",
            "Element: 8 Type: ForceBeamColumn2d \tConnected Nodes: 113 114 \n",
            "\tNumber of Sections: 5\tMass density: 0\n",
            "Lobatto\n",
            "\tEnd 1 Forces (P V M): -10.7603 -40.2864 1076.5\n",
            "\tEnd 2 Forces (P V M): 10.7603 40.2864 -1298.08\n",
            "\n",
            "Element: 9 Type: ForceBeamColumn2d \tConnected Nodes: 115 116 \n",
            "\tNumber of Sections: 5\tMass density: 0\n",
            "Lobatto\n",
            "\tEnd 1 Forces (P V M): -3.44272 -416.006 -657.633\n",
            "\tEnd 2 Forces (P V M): 3.44272 416.006 -1630.4\n",
            "\n",
            "Element: 10 Type: ForceBeamColumn2d \tConnected Nodes: 117 118 \n",
            "\tNumber of Sections: 5\tMass density: 0\n",
            "Lobatto\n",
            "\tEnd 1 Forces (P V M): -38.9782 -140.04 889.179\n",
            "\tEnd 2 Forces (P V M): 38.9782 140.04 -1659.4\n",
            "\n",
            "Element: 11 Type: ForceBeamColumn2d \tConnected Nodes: 111 115 \n",
            "\tNumber of Sections: 5\tMass density: 0\n",
            "Lobatto\n",
            "\tEnd 1 Forces (P V M): 42.4827 59.2395 -1207.74\n",
            "\tEnd 2 Forces (P V M): -42.4827 -59.2395 1444.7\n",
            "\n",
            "Element: 12 Type: ForceBeamColumn2d \tConnected Nodes: 114 118 \n",
            "\tNumber of Sections: 5\tMass density: 0\n",
            "Lobatto\n",
            "\tEnd 1 Forces (P V M): -21.8067 14.139 -11.1793\n",
            "\tEnd 2 Forces (P V M): 21.8067 -14.139 67.7352\n",
            "\n",
            "Element: 13 Type: ForceBeamColumn2d \tConnected Nodes: 112 116 \n",
            "\tNumber of Sections: 5\tMass density: 0\n",
            "Lobatto\n",
            "\tEnd 1 Forces (P V M): 6.93011 -59.9993 -572.37\n",
            "\tEnd 2 Forces (P V M): -6.93011 59.9993 332.373\n",
            "\n",
            "Element: 14 Type: ForceBeamColumn2d \tConnected Nodes: 113 117 \n",
            "\tNumber of Sections: 5\tMass density: 0\n",
            "Lobatto\n",
            "\tEnd 1 Forces (P V M): -16.6597 49.4561 -60.1659\n",
            "\tEnd 2 Forces (P V M): 16.6597 -49.4561 257.991\n",
            "\n",
            "Element: 15 Type: ForceBeamColumn2d \tConnected Nodes: 11 111 \n",
            "\tNumber of Sections: 5\tMass density: 0\n",
            "Lobatto\n",
            "\tEnd 1 Forces (P V M): 58.2861 -471.418 -1206.11\n",
            "\tEnd 2 Forces (P V M): -58.2861 471.418 -1999.88\n",
            "\n",
            "Element: 16 Type: ForceBeamColumn2d \tConnected Nodes: 111 116 \n",
            "\tNumber of Sections: 5\tMass density: 0\n",
            "Lobatto\n",
            "\tEnd 1 Forces (P V M): 5.73894 240.974 432.709\n",
            "\tEnd 2 Forces (P V M): -5.73894 -240.974 1206.09\n",
            "\n",
            "Element: 17 Type: ForceBeamColumn2d \tConnected Nodes: 117 114 \n",
            "\tNumber of Sections: 5\tMass density: 0\n",
            "Lobatto\n",
            "\tEnd 1 Forces (P V M): -22.1791 -124.244 631.295\n",
            "\tEnd 2 Forces (P V M): 22.1791 124.244 -1476.25\n",
            "\n",
            "Element: 18 Type: ForceBeamColumn2d \tConnected Nodes: 114 21 \n",
            "\tNumber of Sections: 5\tMass density: 0\n",
            "Lobatto\n",
            "\tEnd 1 Forces (P V M): -28.2963 85.833 1915.84\n",
            "\tEnd 2 Forces (P V M): 28.2963 -85.833 -1332.12\n",
            "\n",
            "Element: 19 Type: ForceBeamColumn2d \tConnected Nodes: 112 113 \n",
            "\tNumber of Sections: 5\tMass density: 0\n",
            "Lobatto\n",
            "\tEnd 1 Forces (P V M): -60.2164 -56.9461 560.77\n",
            "\tEnd 2 Forces (P V M): 60.2164 56.9461 -1016.34\n",
            "\n",
            "Element: 20 Type: ForceBeamColumn2d \tConnected Nodes: 116 117 \n",
            "\tNumber of Sections: 5\tMass density: 0\n",
            "Lobatto\n",
            "\tEnd 1 Forces (P V M): -80.536 -210.816 91.9364\n",
            "\tEnd 2 Forces (P V M): 80.536 210.816 -1778.46\n",
            "\n",
            "Element: 21 Type: ForceBeamColumn2d \tConnected Nodes: 110 11 \n",
            "\tNumber of Sections: 5\tMass density: 0\n",
            "Lobatto\n",
            "\tEnd 1 Forces (P V M): 125.977 174.34 -2243.37\n",
            "\tEnd 2 Forces (P V M): -125.977 -174.34 2940.73\n",
            "\n",
            "Element: 22 Type: ForceBeamColumn2d \tConnected Nodes: 210 21 \n",
            "\tNumber of Sections: 5\tMass density: 0\n",
            "Lobatto\n",
            "\tEnd 1 Forces (P V M): -7.17541 61.059 1087.36\n",
            "\tEnd 2 Forces (P V M): 7.17541 -61.059 -843.119\n",
            "\n",
            "Element: 23 Type: ForceBeamColumn2d \tConnected Nodes: 21 31 \n",
            "\tNumber of Sections: 5\tMass density: 0\n",
            "Lobatto\n",
            "\tEnd 1 Forces (P V M): 0 267.762 4657.06\n",
            "\tEnd 2 Forces (P V M): 0 -267.762 3375.81\n",
            "\n",
            "Element: 24 Type: ForceBeamColumn2d \tConnected Nodes: 31 30 \n",
            "\tNumber of Sections: 5\tMass density: 0\n",
            "Lobatto\n",
            "\tEnd 1 Forces (P V M): 116.249 -187.545 -3375.81\n",
            "\tEnd 2 Forces (P V M): -116.249 187.545 2.58652e-13\n",
            "\n",
            "SP_Constraints: numConstraints: 6\n",
            "\n",
            "numComponents: 6\n",
            "SP_Constraint: 0\t Node: 10 DOF: 1 ref value: 0 current value: 0 initial value: 0\n",
            "SP_Constraint: 1\t Node: 10 DOF: 2 ref value: 0 current value: 0 initial value: 0\n",
            "SP_Constraint: 2\t Node: 20 DOF: 1 ref value: 0 current value: 0 initial value: 0\n",
            "SP_Constraint: 3\t Node: 20 DOF: 2 ref value: 0 current value: 0 initial value: 0\n",
            "SP_Constraint: 4\t Node: 30 DOF: 1 ref value: 0 current value: 0 initial value: 0\n",
            "SP_Constraint: 5\t Node: 30 DOF: 2 ref value: 0 current value: 0 initial value: 0\n",
            "\n",
            "Pressure_Constraints: numConstraints: 0\n",
            "\n",
            "numComponents: 0\n",
            "\n",
            "MP_Constraints: numConstraints: 1\n",
            "\n",
            "numComponents: 1\n",
            "MP_Constraint: 0\n",
            "\tNode Constrained: 31 node Retained: 21\n",
            " constrained dof: 1 2 \n",
            " retained dof: 1 2 \n",
            " constraint matrix: \n",
            "1 0 \n",
            "0 1 \n",
            "\n",
            "\n",
            "\n",
            "LOAD PATTERNS: numPatterns: 1\n",
            "\n",
            "\n",
            "numComponents: 1\n",
            "Load Pattern: 1\n",
            "  Scale Factor: 1\n",
            "Linear Series: constant factor: 1\n",
            "  Nodal Loads: \n",
            "\n",
            "numComponents: 1\n",
            "Nodal Load: 11 load : 0 -1000 0 \n",
            "\n",
            "  Elemental Loads: \n",
            "\n",
            "numComponents: 0\n",
            "\n",
            "  Single Point Constraints: \n",
            "\n",
            "numComponents: 0\n",
            "\n",
            "PARAMETERS: numParameters: 0\n",
            "\n",
            "\n",
            "numComponents: 0\n"
          ]
        }
      ]
    }
  ]
}